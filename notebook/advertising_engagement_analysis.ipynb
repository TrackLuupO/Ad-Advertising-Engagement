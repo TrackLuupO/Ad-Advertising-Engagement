{
 "cells": [
  {
   "cell_type": "markdown",
   "id": "c99721d7",
   "metadata": {},
   "source": [
    "# 📊 Advertising Engagement Analysis\n",
    "\n",
    "This notebook analyzes advertising relevance, frequency, and user engagement patterns from the Jumia advertising dataset."
   ]
  },
  {
   "cell_type": "code",
   "execution_count": null,
   "id": "1be9e067",
   "metadata": {},
   "outputs": [],
   "source": [
    "# Import necessary libraries\n",
    "import pandas as pd\n",
    "import matplotlib.pyplot as plt\n",
    "import seaborn as sns\n",
    "import pyreadstat"
   ]
  },
  {
   "cell_type": "code",
   "execution_count": null,
   "id": "ed6aa447",
   "metadata": {},
   "outputs": [],
   "source": [
    "# Load dataset (replace with actual file path)\n",
    "df = pd.read_csv('data/jumia_ads_data.csv')\n",
    "df.head()"
   ]
  },
  {
   "cell_type": "code",
   "execution_count": null,
   "id": "3f97125c",
   "metadata": {},
   "outputs": [],
   "source": [
    "# Plotting Ad Relevance vs Weekly App Usage\n",
    "plt.figure(figsize=(8,5))\n",
    "sns.regplot(x='Ad_Relevance', y='Weekly_Usage_Minutes', data=df, scatter_kws={'alpha':0.6})\n",
    "plt.title('Ad Relevance vs Weekly App Usage')\n",
    "plt.xlabel('Ad Relevance Rating')\n",
    "plt.ylabel('Weekly App Usage (minutes)')\n",
    "plt.grid(True)\n",
    "plt.show()"
   ]
  },
  {
   "cell_type": "code",
   "execution_count": null,
   "id": "4507b7e9",
   "metadata": {},
   "outputs": [],
   "source": [
    "# Radar chart: Institutional Differences (Dummy Example)\n",
    "import plotly.graph_objects as go\n",
    "\n",
    "categories = ['Ad Relevance', 'Ad Frequency', 'User Fun Engagement', 'Purchase Intent', 'Uninstall Risk']\n",
    "\n",
    "UI_scores = [4.5, 3.2, 4.8, 4.1, 2.3]\n",
    "Dominican_scores = [4.2, 3.8, 4.6, 3.9, 1.8]\n",
    "\n",
    "fig = go.Figure()\n",
    "fig.add_trace(go.Scatterpolar(r=UI_scores, theta=categories, fill='toself', name='UI'))\n",
    "fig.add_trace(go.Scatterpolar(r=Dominican_scores, theta=categories, fill='toself', name='Dominican'))\n",
    "\n",
    "fig.update_layout(\n",
    "    polar=dict(radialaxis=dict(visible=True, range=[0,5])),\n",
    "    showlegend=True,\n",
    "    title='Radar Chart of Institutional Differences'\n",
    ")\n",
    "\n",
    "fig.show()"
   ]
  },
  {
   "cell_type": "markdown",
   "id": "32918feb",
   "metadata": {},
   "source": [
    "**Note:** Replace the dataset path and institutional scores with your actual data."
   ]
  }
 ],
 "metadata": {
  "kernelspec": {
   "display_name": "base",
   "language": "python",
   "name": "python3"
  },
  "language_info": {
   "codemirror_mode": {
    "name": "ipython",
    "version": 3
   },
   "file_extension": ".py",
   "mimetype": "text/x-python",
   "name": "python",
   "nbconvert_exporter": "python",
   "pygments_lexer": "ipython3",
   "version": "3.12.4"
  }
 },
 "nbformat": 4,
 "nbformat_minor": 5
}
